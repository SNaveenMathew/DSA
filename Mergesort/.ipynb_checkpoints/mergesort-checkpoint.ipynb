{
 "cells": [
  {
   "cell_type": "code",
   "execution_count": 1,
   "metadata": {
    "collapsed": true
   },
   "outputs": [],
   "source": [
    "from csv import reader"
   ]
  },
  {
   "cell_type": "code",
   "execution_count": 2,
   "metadata": {
    "collapsed": false
   },
   "outputs": [],
   "source": [
    "with open('Data\\\\mergesort.txt', 'rb') as in_file:\n",
    "    csv_reader = reader(in_file, delimiter=',')\n",
    "    array = csv_reader.next()\n",
    "    array = [int(a) for a in array]\n"
   ]
  },
  {
   "cell_type": "code",
   "execution_count": 3,
   "metadata": {
    "collapsed": false
   },
   "outputs": [],
   "source": [
    "def merge_op(arr1, arr2):\n",
    "    i = 0\n",
    "    j = 0\n",
    "    l1 = len(arr1)\n",
    "    l2 = len(arr2)\n",
    "    N = l1 + l2\n",
    "    arr = []\n",
    "    for k in range(N):\n",
    "        if i==l1:\n",
    "            arr.append(arr2[j])\n",
    "            j+=1\n",
    "        elif j==l2:\n",
    "            arr.append(arr1[i])\n",
    "            i+=1\n",
    "        elif arr1[i]<arr2[j]:\n",
    "            arr.append(arr1[i])\n",
    "            i+=1\n",
    "        else:\n",
    "            arr.append(arr2[j])\n",
    "            j+=1\n",
    "    \n",
    "    return arr"
   ]
  },
  {
   "cell_type": "code",
   "execution_count": 4,
   "metadata": {
    "collapsed": true
   },
   "outputs": [],
   "source": [
    "def split_array(array):\n",
    "    l = len(array)\n",
    "    split_arr = []\n",
    "    for i in range(l):\n",
    "        split_arr.append([array[i]])\n",
    "    \n",
    "    return split_arr"
   ]
  },
  {
   "cell_type": "code",
   "execution_count": 5,
   "metadata": {
    "collapsed": true
   },
   "outputs": [],
   "source": [
    "def merge_sort(array):\n",
    "    split_arr = split_array(array)\n",
    "    l_array = len(split_arr)\n",
    "    while l_array>1:\n",
    "        split_arr1 = []\n",
    "        i = 0\n",
    "        while i<l_array:\n",
    "            try:\n",
    "                merged = merge_op(split_arr[i], split_arr[i+1])\n",
    "                split_arr1.append(merged)\n",
    "            except:\n",
    "                split_arr1.append(split_arr[i])\n",
    "            i+=2\n",
    "        split_arr = split_arr1\n",
    "        l_array = len(split_arr)\n",
    "    return split_arr[0]"
   ]
  },
  {
   "cell_type": "code",
   "execution_count": 6,
   "metadata": {
    "collapsed": false,
    "scrolled": true
   },
   "outputs": [
    {
     "data": {
      "text/plain": [
       "[1, 2, 3, 4, 5, 6, 7, 8, 9, 10]"
      ]
     },
     "execution_count": 6,
     "metadata": {},
     "output_type": "execute_result"
    }
   ],
   "source": [
    "merge_sort(array)"
   ]
  },
  {
   "cell_type": "code",
   "execution_count": 42,
   "metadata": {
    "collapsed": false
   },
   "outputs": [
    {
     "data": {
      "text/plain": [
       "[[1, 2, 3, 4, 5, 6, 7, 8, 9, 10]]"
      ]
     },
     "execution_count": 42,
     "metadata": {},
     "output_type": "execute_result"
    }
   ],
   "source": []
  }
 ],
 "metadata": {
  "anaconda-cloud": {},
  "kernelspec": {
   "display_name": "Python [default]",
   "language": "python",
   "name": "python2"
  },
  "language_info": {
   "codemirror_mode": {
    "name": "ipython",
    "version": 2
   },
   "file_extension": ".py",
   "mimetype": "text/x-python",
   "name": "python",
   "nbconvert_exporter": "python",
   "pygments_lexer": "ipython2",
   "version": "2.7.12"
  }
 },
 "nbformat": 4,
 "nbformat_minor": 1
}
